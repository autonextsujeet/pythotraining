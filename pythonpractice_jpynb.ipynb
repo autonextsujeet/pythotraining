{
  "nbformat": 4,
  "nbformat_minor": 0,
  "metadata": {
    "colab": {
      "provenance": [],
      "authorship_tag": "ABX9TyP+wXBmU5Gc7g7RZCsOn3Dg",
      "include_colab_link": true
    },
    "kernelspec": {
      "name": "python3",
      "display_name": "Python 3"
    },
    "language_info": {
      "name": "python"
    }
  },
  "cells": [
    {
      "cell_type": "markdown",
      "metadata": {
        "id": "view-in-github",
        "colab_type": "text"
      },
      "source": [
        "<a href=\"https://colab.research.google.com/github/autonextsujeet/pythotraining/blob/main/pythonpractice_jpynb.ipynb\" target=\"_parent\"><img src=\"https://colab.research.google.com/assets/colab-badge.svg\" alt=\"Open In Colab\"/></a>"
      ]
    },
    {
      "cell_type": "code",
      "execution_count": null,
      "metadata": {
        "colab": {
          "base_uri": "https://localhost:8080/"
        },
        "id": "EU0MtMOH9WQU",
        "outputId": "2664045f-f866-4d80-dfec-56580f712a57"
      },
      "outputs": [
        {
          "output_type": "stream",
          "name": "stdout",
          "text": [
            "5\n",
            "<class 'int'>\n",
            "Python Master\n",
            "<class 'bool'>\n",
            "<class 'float'>\n"
          ]
        }
      ],
      "source": [
        "# Data Types\n",
        "a=2\n",
        "b=3\n",
        "c=a+b\n",
        "print (c)\n",
        "print (type(c))\n",
        "\n",
        "z=True\n",
        "print(type(z))\n",
        "\n",
        "f=4.7\n",
        "print(type(f))\n",
        "\n",
        "\n",
        "\n",
        "\n",
        "\n",
        "\n",
        "\n"
      ]
    },
    {
      "cell_type": "code",
      "source": [],
      "metadata": {
        "id": "CxzsjLSdGYrh"
      },
      "execution_count": null,
      "outputs": []
    },
    {
      "cell_type": "markdown",
      "source": [],
      "metadata": {
        "id": "eWy3VbAxGYTE"
      }
    },
    {
      "cell_type": "markdown",
      "source": [
        "# New Section"
      ],
      "metadata": {
        "id": "9lDhWmGkIIQA"
      }
    },
    {
      "cell_type": "code",
      "source": [],
      "metadata": {
        "id": "PvxlEB8FGdgE"
      },
      "execution_count": null,
      "outputs": []
    }
  ]
}